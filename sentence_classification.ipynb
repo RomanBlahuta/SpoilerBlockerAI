{
 "metadata": {
  "language_info": {
   "codemirror_mode": {
    "name": "ipython",
    "version": 3
   },
   "file_extension": ".py",
   "mimetype": "text/x-python",
   "name": "python",
   "nbconvert_exporter": "python",
   "pygments_lexer": "ipython3",
   "version": "3.8.5-final"
  },
  "orig_nbformat": 2,
  "kernelspec": {
   "name": "python3",
   "display_name": "Python 3",
   "language": "python"
  }
 },
 "nbformat": 4,
 "nbformat_minor": 2,
 "cells": [
  {
   "source": [
    "# Spoiler text classification\n",
    "## SpoilerBlockerAI Project"
   ],
   "cell_type": "markdown",
   "metadata": {}
  },
  {
   "cell_type": "code",
   "execution_count": 1,
   "metadata": {},
   "outputs": [],
   "source": [
    "# Imports\n",
    "\n",
    "import re\n",
    "import numpy as np\n",
    "import pandas as pd\n",
    "import nltk\n",
    "from sklearn.feature_extraction.text import CountVectorizer, TfidfVectorizer\n",
    "from sklearn.linear_model import LogisticRegression\n",
    "from sklearn.model_selection import train_test_split\n",
    "from sklearn.pipeline import Pipeline\n",
    "from sklearn.metrics import accuracy_score, f1_score, recall_score\n",
    "from nltk.stem import WordNetLemmatizer \n",
    "from nltk.tokenize import word_tokenize\n",
    "from nltk.stem import PorterStemmer\n",
    "from nltk.corpus import stopwords\n",
    "#import xgboost as xgb"
   ]
  },
  {
   "cell_type": "code",
   "execution_count": 2,
   "metadata": {},
   "outputs": [
    {
     "output_type": "stream",
     "name": "stderr",
     "text": [
      "[nltk_data] Downloading package punkt to /home/vlad/nltk_data...\n",
      "[nltk_data]   Package punkt is already up-to-date!\n",
      "[nltk_data] Downloading package wordnet to /home/vlad/nltk_data...\n",
      "[nltk_data]   Package wordnet is already up-to-date!\n",
      "[nltk_data] Downloading package stopwords to /home/vlad/nltk_data...\n",
      "[nltk_data]   Package stopwords is already up-to-date!\n"
     ]
    },
    {
     "output_type": "execute_result",
     "data": {
      "text/plain": [
       "True"
      ]
     },
     "metadata": {},
     "execution_count": 2
    }
   ],
   "source": [
    "# Downloads\n",
    "nltk.download(\"punkt\")\n",
    "nltk.download('wordnet')\n",
    "nltk.download('stopwords')"
   ]
  },
  {
   "cell_type": "code",
   "execution_count": 3,
   "metadata": {},
   "outputs": [],
   "source": [
    "df = pd.read_csv(\"csvCut2/goodreads_reviews_spoiler_part_2.csv\", nrows=10000)"
   ]
  },
  {
   "cell_type": "code",
   "execution_count": 4,
   "metadata": {},
   "outputs": [
    {
     "output_type": "execute_result",
     "data": {
      "text/plain": [
       "    index  has_spoiler                                           sentence\n",
       "0  559052            1  It is not rational to kill more people, especi...\n",
       "1  883816            1  Interestingly, though the Ronan/Adam kiss was ...\n",
       "2  585218            0  I also thought this book had some really good ...\n",
       "3  356708            0       What is it about Adeline that's so fixating?\n",
       "4  784109            0                             So what didn't I like?"
      ],
      "text/html": "<div>\n<style scoped>\n    .dataframe tbody tr th:only-of-type {\n        vertical-align: middle;\n    }\n\n    .dataframe tbody tr th {\n        vertical-align: top;\n    }\n\n    .dataframe thead th {\n        text-align: right;\n    }\n</style>\n<table border=\"1\" class=\"dataframe\">\n  <thead>\n    <tr style=\"text-align: right;\">\n      <th></th>\n      <th>index</th>\n      <th>has_spoiler</th>\n      <th>sentence</th>\n    </tr>\n  </thead>\n  <tbody>\n    <tr>\n      <th>0</th>\n      <td>559052</td>\n      <td>1</td>\n      <td>It is not rational to kill more people, especi...</td>\n    </tr>\n    <tr>\n      <th>1</th>\n      <td>883816</td>\n      <td>1</td>\n      <td>Interestingly, though the Ronan/Adam kiss was ...</td>\n    </tr>\n    <tr>\n      <th>2</th>\n      <td>585218</td>\n      <td>0</td>\n      <td>I also thought this book had some really good ...</td>\n    </tr>\n    <tr>\n      <th>3</th>\n      <td>356708</td>\n      <td>0</td>\n      <td>What is it about Adeline that's so fixating?</td>\n    </tr>\n    <tr>\n      <th>4</th>\n      <td>784109</td>\n      <td>0</td>\n      <td>So what didn't I like?</td>\n    </tr>\n  </tbody>\n</table>\n</div>"
     },
     "metadata": {},
     "execution_count": 4
    }
   ],
   "source": [
    "df.head()"
   ]
  },
  {
   "cell_type": "code",
   "execution_count": 5,
   "metadata": {},
   "outputs": [],
   "source": [
    "# previous clearing data before analyzing\n",
    "# Do not use yet, because of non-successful impact on the results\n",
    "\n",
    "# for i in range(len(df)):\n",
    "#     df[\"sentence\"][i] = re.sub(\"[^a-zA-Z0-9\\s]+\", \"\", df[\"sentence\"][i])\n",
    "\n"
   ]
  },
  {
   "cell_type": "code",
   "execution_count": 5,
   "metadata": {},
   "outputs": [],
   "source": [
    "lemmatizer = WordNetLemmatizer()\n",
    "stemmer = PorterStemmer()\n",
    "\n",
    "# Creating data to the training, previously removing stopwords\n",
    "\n",
    "docs = [[stemmer.stem(lemmatizer.lemmatize(t)) for t in word_tokenize(doc) if not t in stopwords.words()] for doc in df[\"sentence\"].to_numpy()]\n",
    "\n",
    "\n",
    "for i in range(len(docs)):\n",
    "    docs[i] = \" \".join(docs[i])"
   ]
  },
  {
   "cell_type": "code",
   "execution_count": 6,
   "metadata": {},
   "outputs": [],
   "source": [
    "vectorizer = TfidfVectorizer(ngram_range=(1,2), max_features=25000)\n",
    "classifier = LogisticRegression()\n",
    "\n",
    "model = classifier\n",
    "\n",
    "X = vectorizer.fit_transform(docs).toarray()\n",
    "y = df[\"has_spoiler\"].to_numpy()\n",
    "\n",
    "trainX, testX, trainY, testY = train_test_split(X, y)"
   ]
  },
  {
   "cell_type": "code",
   "execution_count": 7,
   "metadata": {},
   "outputs": [
    {
     "output_type": "stream",
     "name": "stdout",
     "text": [
      "Test accuracy = 65.32%\nF1 score: 68.00%\nRecall score: 72.07%\n"
     ]
    }
   ],
   "source": [
    "model.fit(trainX, trainY)\n",
    "predictions = model.predict(testX)\n",
    "\n",
    "acc = accuracy_score(testY, predictions)\n",
    "recall = recall_score(testY, predictions)\n",
    "f1 = f1_score(testY, predictions)\n",
    "\n",
    "print('Test accuracy = {:.2%}'.format(acc))\n",
    "print('F1 score: {:.2%}'.format(f1))\n",
    "print('Recall score: {:.2%}'.format(recall))\n",
    "\n"
   ]
  },
  {
   "cell_type": "code",
   "execution_count": null,
   "metadata": {},
   "outputs": [],
   "source": []
  }
 ]
}