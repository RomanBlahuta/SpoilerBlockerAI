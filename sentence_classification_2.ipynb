{
 "metadata": {
  "language_info": {
   "codemirror_mode": {
    "name": "ipython",
    "version": 3
   },
   "file_extension": ".py",
   "mimetype": "text/x-python",
   "name": "python",
   "nbconvert_exporter": "python",
   "pygments_lexer": "ipython3",
   "version": "3.8.5-final"
  },
  "orig_nbformat": 2,
  "kernelspec": {
   "name": "python3",
   "display_name": "Python 3",
   "language": "python"
  }
 },
 "nbformat": 4,
 "nbformat_minor": 2,
 "cells": [
  {
   "source": [
    "# Spoiler text classification\n",
    "## SpoilerBlockerAI Project"
   ],
   "cell_type": "markdown",
   "metadata": {}
  },
  {
   "cell_type": "code",
   "execution_count": 21,
   "metadata": {},
   "outputs": [],
   "source": [
    "# Imports\n",
    "\n",
    "import numpy as np\n",
    "import pandas as pd\n",
    "import nltk\n",
    "from sklearn.feature_extraction.text import CountVectorizer, TfidfVectorizer\n",
    "from sklearn.linear_model import LogisticRegression\n",
    "from sklearn.model_selection import train_test_split\n",
    "from sklearn.pipeline import Pipeline\n",
    "from sklearn.metrics import accuracy_score\n",
    "from nltk.stem import WordNetLemmatizer \n",
    "from nltk.tokenize import word_tokenize\n",
    "from nltk.stem import PorterStemmer\n",
    "#import xgboost as xgb"
   ]
  },
  {
   "cell_type": "code",
   "execution_count": 22,
   "metadata": {},
   "outputs": [
    {
     "output_type": "stream",
     "name": "stderr",
     "text": [
      "[nltk_data] Downloading package punkt to /home/vlad/nltk_data...\n[nltk_data]   Package punkt is already up-to-date!\n[nltk_data] Downloading package wordnet to /home/vlad/nltk_data...\n[nltk_data]   Package wordnet is already up-to-date!\n"
     ]
    },
    {
     "output_type": "execute_result",
     "data": {
      "text/plain": [
       "True"
      ]
     },
     "metadata": {},
     "execution_count": 22
    }
   ],
   "source": [
    "# Downloads\n",
    "nltk.download(\"punkt\")\n",
    "nltk.download('wordnet')"
   ]
  },
  {
   "cell_type": "code",
   "execution_count": 46,
   "metadata": {},
   "outputs": [],
   "source": [
    "#df = pd.read_csv(\"75k43p5percent.csv\")\n",
    "df = pd.read_csv(\"csvCunt2/goodreads_reviews_spoiler_part_2.csv\", nrows=10000)\n"
   ]
  },
  {
   "cell_type": "code",
   "execution_count": 47,
   "metadata": {},
   "outputs": [
    {
     "output_type": "execute_result",
     "data": {
      "text/plain": [
       "    index  has_spoiler                                           sentence\n",
       "0  559052            1  It is not rational to kill more people, especi...\n",
       "1  883816            1  Interestingly, though the Ronan/Adam kiss was ...\n",
       "2  585218            0  I also thought this book had some really good ...\n",
       "3  356708            0       What is it about Adeline that's so fixating?\n",
       "4  784109            0                             So what didn't I like?"
      ],
      "text/html": "<div>\n<style scoped>\n    .dataframe tbody tr th:only-of-type {\n        vertical-align: middle;\n    }\n\n    .dataframe tbody tr th {\n        vertical-align: top;\n    }\n\n    .dataframe thead th {\n        text-align: right;\n    }\n</style>\n<table border=\"1\" class=\"dataframe\">\n  <thead>\n    <tr style=\"text-align: right;\">\n      <th></th>\n      <th>index</th>\n      <th>has_spoiler</th>\n      <th>sentence</th>\n    </tr>\n  </thead>\n  <tbody>\n    <tr>\n      <th>0</th>\n      <td>559052</td>\n      <td>1</td>\n      <td>It is not rational to kill more people, especi...</td>\n    </tr>\n    <tr>\n      <th>1</th>\n      <td>883816</td>\n      <td>1</td>\n      <td>Interestingly, though the Ronan/Adam kiss was ...</td>\n    </tr>\n    <tr>\n      <th>2</th>\n      <td>585218</td>\n      <td>0</td>\n      <td>I also thought this book had some really good ...</td>\n    </tr>\n    <tr>\n      <th>3</th>\n      <td>356708</td>\n      <td>0</td>\n      <td>What is it about Adeline that's so fixating?</td>\n    </tr>\n    <tr>\n      <th>4</th>\n      <td>784109</td>\n      <td>0</td>\n      <td>So what didn't I like?</td>\n    </tr>\n  </tbody>\n</table>\n</div>"
     },
     "metadata": {},
     "execution_count": 47
    }
   ],
   "source": [
    "df.head()"
   ]
  },
  {
   "cell_type": "code",
   "execution_count": 48,
   "metadata": {},
   "outputs": [],
   "source": [
    "lemmatizer = WordNetLemmatizer()\n",
    "stemmer = PorterStemmer()\n",
    "\n",
    "# docs = [[stemmer.stem(lemmatizer.lemmatize(t)) for t in word_tokenize(doc)] for doc in df[\"sentence\"].to_numpy()]\n",
    "\n",
    "\n",
    "# for i in range(len(docs)):\n",
    "#     docs[i] = \" \".join(docs[i])"
   ]
  },
  {
   "cell_type": "code",
   "execution_count": 49,
   "metadata": {},
   "outputs": [],
   "source": [
    "#vectorizer = CountVectorizer()\n",
    "vectorizer = TfidfVectorizer(ngram_range=(1,2), max_features=10000)\n",
    "classifier = LogisticRegression()\n",
    "\n",
    "# model = Pipeline([\n",
    "#     ('vectorizer', vectorizer),\n",
    "#     ('classifier', classifier)\n",
    "# ])\n",
    "\n",
    "model = classifier\n",
    "\n",
    "X = df[\"sentence\"].to_numpy()\n",
    "X = vectorizer.fit_transform(X).toarray()\n",
    "y = df[\"has_spoiler\"].to_numpy()\n",
    "trainX, testX, trainY, testY = train_test_split(X, y)"
   ]
  },
  {
   "cell_type": "code",
   "execution_count": 50,
   "metadata": {},
   "outputs": [
    {
     "output_type": "stream",
     "name": "stdout",
     "text": [
      "Test accuracy = 66.94%\n"
     ]
    }
   ],
   "source": [
    "model.fit(trainX, trainY)\n",
    "predictions = model.predict(testX)\n",
    "\n",
    "acc = accuracy_score(testY, predictions)\n",
    "\n",
    "print('Test accuracy = {:.2%}'.format(acc))"
   ]
  },
  {
   "cell_type": "code",
   "execution_count": null,
   "metadata": {},
   "outputs": [],
   "source": []
  }
 ]
}